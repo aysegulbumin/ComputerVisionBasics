{
  "nbformat": 4,
  "nbformat_minor": 0,
  "metadata": {
    "kernelspec": {
      "display_name": "Python 3",
      "language": "python",
      "name": "python3"
    },
    "language_info": {
      "codemirror_mode": {
        "name": "ipython",
        "version": 3
      },
      "file_extension": ".py",
      "mimetype": "text/x-python",
      "name": "python",
      "nbconvert_exporter": "python",
      "pygments_lexer": "ipython3",
      "version": "3.7.3"
    },
    "colab": {
      "name": "ComputerVisionHw1.ipynb",
      "provenance": []
    }
  },
  "cells": [
    {
      "cell_type": "code",
      "metadata": {
        "id": "4UQGZ2o9SHy9"
      },
      "source": [
        "import matplotlib.pyplot as plt\n",
        "import numpy as np\n",
        "import math\n",
        "import matplotlib as mpl\n",
        "from scipy import ndimage\n",
        "from PIL import Image\n"
      ],
      "execution_count": 1,
      "outputs": []
    },
    {
      "cell_type": "code",
      "metadata": {
        "id": "myV6CKLwSHzF",
        "outputId": "2a9fa2cc-c7dc-41b1-e253-42b5d184ec1b",
        "colab": {
          "base_uri": "https://localhost:8080/",
          "height": 285
        }
      },
      "source": [
        "img=np.zeros((64,64))\n",
        "plt.imshow(img,cmap='gray')"
      ],
      "execution_count": 2,
      "outputs": [
        {
          "output_type": "execute_result",
          "data": {
            "text/plain": [
              "<matplotlib.image.AxesImage at 0x7f32633ad0b8>"
            ]
          },
          "metadata": {
            "tags": []
          },
          "execution_count": 2
        },
        {
          "output_type": "display_data",
          "data": {
            "image/png": "[encoded data removed]",
            "text/plain": [
              "<Figure size 432x288 with 1 Axes>"
            ]
          },
          "metadata": {
            "tags": [],
            "needs_background": "light"
          }
        }
      ]
    },
    {
      "cell_type": "code",
      "metadata": {
        "id": "jhHZLrjzSHzP"
      },
      "source": [
        "def pad_with(vector, pad_width, iaxis, kwargs):\n",
        "    pad_value = kwargs.get('padder', 10)\n",
        "    vector[:pad_width[0]] = pad_value\n",
        "    vector[-pad_width[1]:] = pad_value"
      ],
      "execution_count": 3,
      "outputs": []
    },
    {
      "cell_type": "code",
      "metadata": {
        "id": "uodfUbZdSHzV"
      },
      "source": [
        "input_img = np.pad(img, 32, pad_with, padder=1)"
      ],
      "execution_count": 4,
      "outputs": []
    },
    {
      "cell_type": "code",
      "metadata": {
        "id": "eqgLF5k0SHza",
        "outputId": "1bc67159-0fc7-4cb3-a955-c9458beef866",
        "colab": {
          "base_uri": "https://localhost:8080/",
          "height": 285
        }
      },
      "source": [
        "plt.imshow(input_img,cmap='gray')"
      ],
      "execution_count": 5,
      "outputs": [
        {
          "output_type": "execute_result",
          "data": {
            "text/plain": [
              "<matplotlib.image.AxesImage at 0x7f3262e8d4e0>"
            ]
          },
          "metadata": {
            "tags": []
          },
          "execution_count": 5
        },
        {
          "output_type": "display_data",
          "data": {
            "image/png": "[encoded data removed]",
            "text/plain": [
              "<Figure size 432x288 with 1 Axes>"
            ]
          },
          "metadata": {
            "tags": [],
            "needs_background": "light"
          }
        }
      ]
    },
    {
      "cell_type": "markdown",
      "metadata": {
        "id": "OC0u50o7SHzf"
      },
      "source": [
        "## SHEAR"
      ]
    },
    {
      "cell_type": "code",
      "metadata": {
        "id": "Dnnd9wutSHzg",
        "outputId": "768a8237-0ea0-45cb-ee19-83b15a338bf0",
        "colab": {
          "base_uri": "https://localhost:8080/",
          "height": 286
        }
      },
      "source": [
        "#The following code snippet is influenced by the blog \n",
        "#https://stackabuse.com/affine-image-transformations-in-python-with-numpy-pillow-and-opencv/\n",
        "\n",
        "ShearMatrix = np.array([[1,2],[0,1]])\n",
        "res = np.zeros((400,400))\n",
        "\n",
        "for i,row in enumerate(input_img):\n",
        "    for j, col in enumerate(row):\n",
        "        pixel_data = input_img[i, j]\n",
        "        input_coords = np.array([i, j])\n",
        "        i_out, j_out = np.round(ShearMatrix @ input_coords)\n",
        "        res[i_out,j_out] = pixel_data\n",
        "        \n",
        "plt.imshow(res,cmap='gray')"
      ],
      "execution_count": 6,
      "outputs": [
        {
          "output_type": "execute_result",
          "data": {
            "text/plain": [
              "<matplotlib.image.AxesImage at 0x7f3262e00780>"
            ]
          },
          "metadata": {
            "tags": []
          },
          "execution_count": 6
        },
        {
          "output_type": "display_data",
          "data": {
            "image/png": "[encoded data removed]",
            "text/plain": [
              "<Figure size 432x288 with 1 Axes>"
            ]
          },
          "metadata": {
            "tags": [],
            "needs_background": "light"
          }
        }
      ]
    },
    {
      "cell_type": "markdown",
      "metadata": {
        "id": "ro21UieUSHzp"
      },
      "source": [
        "## ROTATION"
      ]
    },
    {
      "cell_type": "code",
      "metadata": {
        "scrolled": true,
        "id": "yZmbUgDoSHzq",
        "outputId": "1617b28c-cbc4-4ebe-80cc-deb0fc5b11c1",
        "colab": {
          "base_uri": "https://localhost:8080/",
          "height": 286
        }
      },
      "source": [
        "#The following code snippet is adopted from the following link, necessary changes are made\n",
        "#https://stackoverflow.com/questions/57648391/how-do-i-rotate-an-image-manually-without-using-cv2-getrotationmatrix2d\n",
        "\n",
        "\n",
        "#  inputs\n",
        "rotation_amount_degree = 45\n",
        "\n",
        "#  convert rotation amount to radian\n",
        "rotation_amount_rad = rotation_amount_degree * np.pi / 180.0\n",
        "\n",
        "\n",
        "#  get dimension info\n",
        "height, width = res.shape\n",
        "\n",
        "max_len=400\n",
        "rotated_image = np.zeros((max_len, max_len))\n",
        "\n",
        "rotated_height, rotated_width= rotated_image.shape\n",
        "mid_row = int( (rotated_height+1)/2 )\n",
        "mid_col = int( (rotated_width+1)/2 )\n",
        "\n",
        "for r in range(rotated_height):\n",
        "    for c in range(rotated_width):\n",
        "        \n",
        "        y = (r)*math.cos(rotation_amount_rad) + (c)*math.sin(rotation_amount_rad)\n",
        "        x = -1*(r)*math.sin(rotation_amount_rad) + (c)*math.cos(rotation_amount_rad)\n",
        "\n",
        "        #  get nearest index\n",
        "        #a better way is linear interpolation\n",
        "        x = round(x)\n",
        "        y = round(y)\n",
        "\n",
        "        if (x >= 0 and y >= 0 and x < width and y < height):\n",
        "            rotated_image[r][c] = res[y][x]\n",
        "\n",
        "\n",
        "plt.imshow(rotated_image,cmap='gray')"
      ],
      "execution_count": 7,
      "outputs": [
        {
          "output_type": "execute_result",
          "data": {
            "text/plain": [
              "<matplotlib.image.AxesImage at 0x7f3262de57b8>"
            ]
          },
          "metadata": {
            "tags": []
          },
          "execution_count": 7
        },
        {
          "output_type": "display_data",
          "data": {
            "image/png": "[encoded data removed]",
            "text/plain": [
              "<Figure size 432x288 with 1 Axes>"
            ]
          },
          "metadata": {
            "tags": [],
            "needs_background": "light"
          }
        }
      ]
    },
    {
      "cell_type": "markdown",
      "metadata": {
        "id": "0150Ic2ISHzu"
      },
      "source": [
        "## MAGNIFICATION"
      ]
    },
    {
      "cell_type": "code",
      "metadata": {
        "id": "iomN5zJfSHzv",
        "outputId": "560d04d6-9c02-43c3-9f46-8e7e94169fce",
        "colab": {
          "base_uri": "https://localhost:8080/",
          "height": 286
        }
      },
      "source": [
        "import numpy as np\n",
        "import math\n",
        "from scipy import ndimage\n",
        "from PIL import Image\n",
        "\n",
        "\n",
        "height, width = rotated_image.shape\n",
        "\n",
        "\n",
        "max_len=600\n",
        "magnified_image = np.zeros((max_len, max_len))\n",
        "\n",
        "rotated_height, rotated_width= magnified_image.shape\n",
        "\n",
        "for r in range(rotated_height):\n",
        "    for c in range(rotated_width):\n",
        "        \n",
        "        y = (r)*(1/math.sqrt(2)) \n",
        "        x = (c)*(1/math.sqrt(2))\n",
        "\n",
        "        x = round(x)\n",
        "        y = round(y)\n",
        "\n",
        "        #  check if x/y corresponds to a valid pixel in input image\n",
        "        if (x >= 0 and y >= 0 and x < width and y < height):\n",
        "            magnified_image[r][c] = rotated_image[y][x]\n",
        "\n",
        "\n",
        "plt.imshow(magnified_image,cmap='gray')"
      ],
      "execution_count": 8,
      "outputs": [
        {
          "output_type": "execute_result",
          "data": {
            "text/plain": [
              "<matplotlib.image.AxesImage at 0x7f3262d4c160>"
            ]
          },
          "metadata": {
            "tags": []
          },
          "execution_count": 8
        },
        {
          "output_type": "display_data",
          "data": {
            "image/png": "[encoded data removed]",
            "text/plain": [
              "<Figure size 432x288 with 1 Axes>"
            ]
          },
          "metadata": {
            "tags": [],
            "needs_background": "light"
          }
        }
      ]
    },
    {
      "cell_type": "markdown",
      "metadata": {
        "id": "BmAEGVlXSHzz"
      },
      "source": [
        "## TRANSLATION"
      ]
    },
    {
      "cell_type": "code",
      "metadata": {
        "id": "-fbsQP88SHz0",
        "outputId": "f64a179b-8594-4cf9-ee97-2bbd26d468ed",
        "colab": {
          "base_uri": "https://localhost:8080/",
          "height": 286
        }
      },
      "source": [
        "import numpy as np\n",
        "import math\n",
        "from scipy import ndimage\n",
        "from PIL import Image\n",
        "\n",
        "\n",
        "height, width = magnified_image.shape\n",
        "\n",
        "max_len=600\n",
        "translated = np.zeros((max_len, max_len))\n",
        "\n",
        "rotated_height, rotated_width= translated.shape\n",
        "\n",
        "for r in range(rotated_height):\n",
        "    for c in range(rotated_width):\n",
        "        \n",
        "        y = (r)+1\n",
        "        x = (c)+3\n",
        "\n",
        "        x = round(x)\n",
        "        y = round(y)\n",
        "        #  check if x/y corresponds to a valid pixel in input image\n",
        "        if (x >= 0 and y >= 0 and x < width and y < height):\n",
        "            translated[r][c] = magnified_image[y][x]\n",
        "\n",
        "\n",
        "plt.imshow(translated,cmap='gray')"
      ],
      "execution_count": 9,
      "outputs": [
        {
          "output_type": "execute_result",
          "data": {
            "text/plain": [
              "<matplotlib.image.AxesImage at 0x7f3262cb0048>"
            ]
          },
          "metadata": {
            "tags": []
          },
          "execution_count": 9
        },
        {
          "output_type": "display_data",
          "data": {
            "image/png": "[encoded data removed]",
            "text/plain": [
              "<Figure size 432x288 with 1 Axes>"
            ]
          },
          "metadata": {
            "tags": [],
            "needs_background": "light"
          }
        }
      ]
    }
  ]
}